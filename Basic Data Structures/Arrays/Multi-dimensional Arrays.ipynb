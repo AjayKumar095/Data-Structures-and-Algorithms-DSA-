{
 "cells": [
  {
   "cell_type": "markdown",
   "metadata": {},
   "source": [
    "<h1 style='color: green;'><center>Multi-dimensional Arrays</center></h1>"
   ]
  },
  {
   "cell_type": "markdown",
   "metadata": {},
   "source": [
    "Multi-dimensional arrays are fundamental data structures in programming that extend the concept of one-dimensional arrays to multiple dimensions. A multi-dimensional array is an array of arrays where each element is accessed by a sequence of indices."
   ]
  },
  {
   "cell_type": "markdown",
   "metadata": {},
   "source": [
    "Dimensions: The number of dimensions determines the rank of the array. For example:\n",
    "\n",
    "- 1D array: A list of elements accessed by a single index.\n",
    "- 2D array: An array of arrays, accessed by two indices (rows and columns).\n",
    "- 3D array: An array of 2D arrays, accessed by three indices (depth, row, and column).\n",
    "And so forth for higher dimensions."
   ]
  },
  {
   "cell_type": "markdown",
   "metadata": {},
   "source": [
    "<img src=\"multi-dimensional.png\" alt=\"Example Image\" >"
   ]
  },
  {
   "cell_type": "markdown",
   "metadata": {},
   "source": [
    "Indexing: Elements in a multi-dimensional array are accessed using multiple indices corresponding to each dimension. For example, in a 2D array, array[row_index][column_index] accesses a specific element.\n",
    "\n",
    "Initialization: Multi-dimensional arrays can be initialized during declaration or dynamically allocated depending on the programming language."
   ]
  },
  {
   "cell_type": "markdown",
   "metadata": {},
   "source": [
    "<h4 style='color: green;'>Declaration and Initialization in Python Programming</h4>\n",
    "<p><em>The syntax for declaring a one-dimensional array varies depending on the programming language. <br>\n",
    "Here are example in Python.</em></p>"
   ]
  },
  {
   "cell_type": "code",
   "execution_count": 6,
   "metadata": {},
   "outputs": [
    {
     "name": "stdout",
     "output_type": "stream",
     "text": [
      "Array Dimension:-  2\n",
      "[[1 2 3]\n",
      " [4 5 6]\n",
      " [7 8 9]]\n",
      "\n",
      "\n",
      "Array Dimension:-  3\n",
      "[[[1 2 3]\n",
      "  [4 5 6]\n",
      "  [7 8 9]]]\n"
     ]
    }
   ],
   "source": [
    "## Importing numpy for creating array, numpy provides many function and methods for manipulating arrays.\n",
    "\n",
    "import numpy as np \n",
    "\n",
    "array_obj_2D=[[1,2,3], [4,5,6], [7,8,9]]\n",
    "Array_2D=np.array(array_obj_2D)\n",
    "\n",
    "array_obj_3D=[[[1,2,3], [4,5,6], [7,8,9]]]\n",
    "Array_3D=np.array(array_obj_3D)\n",
    "\n",
    "## Printing the 2D array and its dimensional\n",
    "## In numpy we can check the dimension of any array using ndim function.\n",
    "\n",
    "print(\"Array Dimension:- \",Array_2D.ndim)  \n",
    "print(Array_2D)\n",
    "print('\\n')\n",
    "\n",
    "print(\"Array Dimension:- \",Array_3D.ndim)  \n",
    "print(Array_3D)"
   ]
  },
  {
   "cell_type": "markdown",
   "metadata": {},
   "source": [
    "<p><em>In this way you can create 'n' dimensional arrays.</em></p>"
   ]
  },
  {
   "cell_type": "markdown",
   "metadata": {},
   "source": [
    "<h3 style='color: green;'>Applications:</h3>\n",
    "\n",
    "- Image Processing: Pixel values in images are often stored in 2D arrays (for grayscale) or 3D arrays (for RGB color images).\n",
    "- Matrices: Used extensively in mathematics for representing matrices and performing matrix operations.\n",
    "- Simulation and Modeling: Used in simulations where data needs to be organized in multiple dimensions (e.g., spatial dimensions in physics simulations)."
   ]
  }
 ],
 "metadata": {
  "kernelspec": {
   "display_name": "base",
   "language": "python",
   "name": "python3"
  },
  "language_info": {
   "codemirror_mode": {
    "name": "ipython",
    "version": 3
   },
   "file_extension": ".py",
   "mimetype": "text/x-python",
   "name": "python",
   "nbconvert_exporter": "python",
   "pygments_lexer": "ipython3",
   "version": "3.11.7"
  }
 },
 "nbformat": 4,
 "nbformat_minor": 2
}
