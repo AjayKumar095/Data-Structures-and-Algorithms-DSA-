{
 "cells": [
  {
   "cell_type": "markdown",
   "metadata": {},
   "source": [
    "<h1 style='color: green;'><center>One-dimensional Arrays</center></h1>"
   ]
  },
  {
   "cell_type": "markdown",
   "metadata": {},
   "source": [
    "<p><em>One-dimensional arrays are among the most fundamental data structures used in programming and data structures and algorithms (DSA). They are simple yet powerful tools for storing and manipulating a sequence of elements.</em></p>"
   ]
  },
  {
   "cell_type": "markdown",
   "metadata": {},
   "source": [
    "<h4>What is Arrays and what do you mean by one-dimensional arrays?</h4>\n",
    "<p>An array is linear data structure that is used to store a collection of elements. These elements are stored in contiguous memory location. And the term <b>One-dimensional array</b> Which is also known as single dimension array it show the dimension of an  array have means it store the data in linear way.</p>"
   ]
  },
  {
   "cell_type": "markdown",
   "metadata": {},
   "source": [
    "<img src=\"objects-tenElementArray.gif\" alt=\"Example Image\" >\n"
   ]
  },
  {
   "cell_type": "markdown",
   "metadata": {},
   "source": [
    "<h4>Key Characteristics:</h4>\n",
    "<ul>\n",
    "<li><b>Homogeneous Data</b> It means that the data stored in arraya are of same data types. we can not save data having different data type in same array.</li><br>\n",
    "<li><b>Fixed Size</b> The array have fixed size. After declaration, We can not change the size of array during runtime.</li><br>\n",
    "<li><b>Indexed Access</b> Each element in the array can be accessed using its index, with indexing typically starting from 0</li>\n",
    "</ul>"
   ]
  },
  {
   "cell_type": "markdown",
   "metadata": {},
   "source": [
    "<h4 style='color: green;'>Declaration and Initialization in Python Programming</h4>"
   ]
  },
  {
   "cell_type": "markdown",
   "metadata": {},
   "source": [
    "<p><em>The syntax for declaring a one-dimensional array varies depending on the programming language. <br>\n",
    "Here are example in Python.</em></p>"
   ]
  },
  {
   "cell_type": "code",
   "execution_count": 1,
   "metadata": {},
   "outputs": [
    {
     "name": "stdout",
     "output_type": "stream",
     "text": [
      "Array 1 by using list: [1, 2, 3, 4, 5], Type of array <class 'list'>\n",
      "Array 2 by using numpy: [1 2 3 4 5], Type of array <class 'numpy.ndarray'>\n"
     ]
    }
   ],
   "source": [
    "## In python the array is represent with is symbole [], and This symbole is also known as list data type in pyhon.\n",
    "\n",
    "\n",
    "## first method by using list to create array\n",
    "array1=[1,2,3,4,5]\n",
    "\n",
    "## second method by using numpy to create array\n",
    "import numpy \n",
    "\n",
    "array2=numpy.array([1,2,3,4,5])\n",
    "\n",
    "print(f'Array 1 by using list: {array1}, Type of array {type(array1)}')\n",
    "print(f'Array 2 by using numpy: {array2}, Type of array {type(array2)}')"
   ]
  },
  {
   "cell_type": "markdown",
   "metadata": {},
   "source": [
    "  <h3 style='color: green;'>Advantages and Disadvantages</h3>\n",
    "    \n",
    " <h4>Advantages</h4>\n",
    "    <ul>\n",
    "        <li><strong>Fast Access</strong>: Direct access to elements using indices provides O(1) time complexity for accessing elements.</li>\n",
    "        <li><strong>Memory Efficiency</strong>: Arrays are contiguous blocks of memory, which can be more memory efficient compared to some other data structures.</li>\n",
    "    </ul>\n",
    "    \n",
    " <h4>Disadvantages</h4>\n",
    "    <ul>\n",
    "        <li><strong>Fixed Size</strong>: Once the array size is defined, it cannot be changed. This can lead to wasted memory if the array is not fully utilized, or memory shortage if the array is too small.</li>\n",
    "        <li><strong>Insertion and Deletion</strong>: These operations can be costly as they may require shifting elements, resulting in O(n) time complexity.</li>\n",
    "    </ul>\n",
    "    \n",
    "<h3>Use Cases</h3>\n",
    "    <ul>\n",
    "        <li><strong>Storing Data</strong>: Used for storing data that needs to be accessed sequentially.</li>\n",
    "        <li><strong>Implementing Other Data Structures</strong>: Arrays serve as the building blocks for other data structures like stacks, queues, and hash tables.</li>\n",
    "        <li><strong>Matrix Representation</strong>: Used for representing matrices (2D arrays) and multi-dimensional arrays by extending the concept.</li>\n",
    "    </ul>\n",
    "    \n",
    "<p>In summary, one-dimensional arrays are a core data structure in DSA, offering simplicity and efficiency for storing and accessing sequences of elements. Understanding their properties, operations, and limitations is fundamental for designing and implementing efficient algorithms.</p>"
   ]
  }
 ],
 "metadata": {
  "kernelspec": {
   "display_name": "base",
   "language": "python",
   "name": "python3"
  },
  "language_info": {
   "codemirror_mode": {
    "name": "ipython",
    "version": 3
   },
   "file_extension": ".py",
   "mimetype": "text/x-python",
   "name": "python",
   "nbconvert_exporter": "python",
   "pygments_lexer": "ipython3",
   "version": "3.11.7"
  }
 },
 "nbformat": 4,
 "nbformat_minor": 2
}
