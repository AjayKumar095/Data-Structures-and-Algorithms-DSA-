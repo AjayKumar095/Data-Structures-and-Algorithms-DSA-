{
 "cells": [
  {
   "cell_type": "markdown",
   "metadata": {},
   "source": [
    "<h1 style=\"color: green;\"><center>Array Operations</center></h1>"
   ]
  },
  {
   "cell_type": "markdown",
   "metadata": {},
   "source": [
    "# One-Dimensional Arrays:\n"
   ]
  },
  {
   "cell_type": "markdown",
   "metadata": {},
   "source": [
    "1. Insertion:  Inserting an element at a specified position in the array, shifting subsequent elements to the right."
   ]
  },
  {
   "cell_type": "code",
   "execution_count": null,
   "metadata": {},
   "outputs": [],
   "source": [
    "import numpy as np\n",
    "\n",
    "arr = np.array([1, 2, 3, 4, 5])\n",
    "arr = np.insert(arr, 2, 10)  # Insert 10 at index 2\n",
    "print(arr)  # Output: [ 1  2 10  3  4  5]\n",
    "\n",
    "# In this example, np.insert() function is used to insert the value 10 at index 2 in the array arr."
   ]
  },
  {
   "cell_type": "markdown",
   "metadata": {},
   "source": [
    "2. Deletion: Removing an element from a specified position in the array, shifting subsequent elements to the left."
   ]
  },
  {
   "cell_type": "code",
   "execution_count": null,
   "metadata": {},
   "outputs": [],
   "source": [
    "import numpy as np\n",
    "\n",
    "arr = np.array([1, 2, 10, 3, 4, 5])\n",
    "arr = np.delete(arr, 3)  # Delete element at index 3\n",
    "print(arr)  # Output: [ 1  2 10  4  5]\n",
    "\n",
    "# In this example, np.delete() function is used to delete the value at index 3 in the array arr."
   ]
  },
  {
   "cell_type": "markdown",
   "metadata": {},
   "source": [
    "3. Access: Retrieving the value stored at a specific position (index) in the array."
   ]
  },
  {
   "cell_type": "code",
   "execution_count": null,
   "metadata": {},
   "outputs": [],
   "source": [
    "import numpy as np\n",
    "\n",
    "arr = np.array([1, 2, 10, 4, 5])\n",
    "print(arr[2])  # Access element at index 2, Output: 10\n"
   ]
  },
  {
   "cell_type": "markdown",
   "metadata": {},
   "source": [
    "# 2Dimensional Array:"
   ]
  },
  {
   "cell_type": "markdown",
   "metadata": {},
   "source": [
    "1. Insertion: Adding elements at specified positions in a multi-dimensional array, expanding the array dimensions if necessary."
   ]
  },
  {
   "cell_type": "code",
   "execution_count": null,
   "metadata": {},
   "outputs": [],
   "source": [
    "import numpy as np\n",
    "\n",
    "arr = np.array([[1, 2, 3], [4, 5, 6]])\n",
    "arr = np.insert(arr, 1, [7, 8, 9], axis=0)\n",
    "print(arr)\n",
    "\n",
    "# In this example, np.insert() inserts the row [7, 8, 9] at index 1 along axis=0 (rows) in the 2D array arr."
   ]
  },
  {
   "cell_type": "markdown",
   "metadata": {},
   "source": [
    "2. Deletion: Removing elements from specified positions in a multi-dimensional array, reducing the array dimensions if necessary."
   ]
  },
  {
   "cell_type": "code",
   "execution_count": null,
   "metadata": {},
   "outputs": [],
   "source": [
    "import numpy as np\n",
    "\n",
    "arr = np.array([[1, 2, 3], [4, 5, 6]])\n",
    "arr = np.delete(arr, 1, axis=0)\n",
    "print(arr)\n",
    "\n",
    "# Here, np.delete() deletes the row at index 1 along axis=0 (rows) from the 2D array arr."
   ]
  },
  {
   "cell_type": "markdown",
   "metadata": {},
   "source": [
    "3. Access: Retrieving the value stored at specific positions (indices) in a multi-dimensional array."
   ]
  },
  {
   "cell_type": "code",
   "execution_count": null,
   "metadata": {},
   "outputs": [],
   "source": [
    "import numpy as np\n",
    "\n",
    "arr = np.array([[1, 2, 3], [4, 5, 6]])\n",
    "\n",
    "print(arr[1, 2])\n",
    "\n",
    "# The expression arr[1, 2] accesses the element at row 1, column 2 in the 2D array arr, which is 6."
   ]
  },
  {
   "cell_type": "markdown",
   "metadata": {},
   "source": [
    "# Explanation:\n",
    "- Insertion involves adding new elements into the array at desired positions. It requires shifting existing elements to accommodate the new element.\n",
    "- Deletion removes elements from the array at specified positions. After deletion, the array may need to be resized or reshaped depending on the array type and the dimensions.\n",
    "- Access refers to retrieving the value stored at a particular index or indices within the array. It allows for reading and manipulating data stored in the array without modifying its structure."
   ]
  }
 ],
 "metadata": {
  "kernelspec": {
   "display_name": "base",
   "language": "python",
   "name": "python3"
  },
  "language_info": {
   "codemirror_mode": {
    "name": "ipython",
    "version": 3
   },
   "file_extension": ".py",
   "mimetype": "text/x-python",
   "name": "python",
   "nbconvert_exporter": "python",
   "pygments_lexer": "ipython3",
   "version": "3.11.7"
  }
 },
 "nbformat": 4,
 "nbformat_minor": 2
}
