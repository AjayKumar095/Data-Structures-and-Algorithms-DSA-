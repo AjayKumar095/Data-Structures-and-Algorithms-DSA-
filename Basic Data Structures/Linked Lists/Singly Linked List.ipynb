{
 "cells": [
  {
   "cell_type": "markdown",
   "metadata": {},
   "source": [
    "<h1 style='color: green;'><center>Singly Linked List</center></h1><br>\n",
    "A Singly Linked List is a type of data structure that consists of a sequence of elements where each element is linked to the next one in the sequence. It is called \"singly linked\" because each node only contains a reference (or pointer) to the next node in the sequence and not to any previous node."
   ]
  },
  {
   "cell_type": "markdown",
   "metadata": {},
   "source": [
    "<h4>Basic Structure: A singly linked list is made up of nodes. Each node contains two parts:</h4>\n",
    "\n",
    "- Data: The value or information stored in the node.\n",
    "- Next: A reference to the next node in the list.\n",
    "\n",
    "\n",
    "<h4 style='color: red;'>[Head] -> [Data | Next] -> [Data | Next] -> [Data | Next] -> NULL</h4><br>\n",
    "The list starts with a node called the head. If the list is empty, the head is null (or None in Python). The last node in the list points to null, indicating the end of the list.\n"
   ]
  },
  {
   "cell_type": "markdown",
   "metadata": {},
   "source": [
    "<h4 style='color: green;'>Advantages</h4>\n",
    "\n",
    "- Dynamic Size: Unlike arrays, singly linked lists can grow or shrink dynamically, making efficient use of memory.\n",
    "- Ease of Insertion/Deletion: Inserting or deleting a node does not require shifting other elements, making these operations efficient.\n",
    "\n",
    "<h4 style='color: green;'>Disadvantages</h4>\n",
    "\n",
    "- Memory Overhead: Each node requires extra memory for the Next reference.\n",
    "- Sequential Access: Accessing elements requires traversing the list from the head to the desired node, leading to O(n) time complexity for searches.\n",
    "- No Backward Traversal: A singly linked list does not support traversing backward through the list.\n",
    "\n",
    "<h4 style='color: green;'>Applications</h4>\n",
    "\n",
    "- Singly linked lists are used in various applications, such as:\n",
    "    - Implementing stacks and queues.\n",
    "    - Managing memory through linked allocation.\n",
    "    - As a foundation for more complex data structures like hash tables and adjacency lists in graphs."
   ]
  }
 ],
 "metadata": {
  "kernelspec": {
   "display_name": "Python 3",
   "language": "python",
   "name": "python3"
  },
  "language_info": {
   "codemirror_mode": {
    "name": "ipython",
    "version": 3
   },
   "file_extension": ".py",
   "mimetype": "text/x-python",
   "name": "python",
   "nbconvert_exporter": "python",
   "pygments_lexer": "ipython3",
   "version": "3.11.7"
  }
 },
 "nbformat": 4,
 "nbformat_minor": 2
}
