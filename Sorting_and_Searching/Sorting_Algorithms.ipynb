{
 "cells": [
  {
   "cell_type": "markdown",
   "metadata": {},
   "source": [
    "<h1 style='color: green;'><center>Sorting Algorithms </center></h1>"
   ]
  },
  {
   "cell_type": "markdown",
   "metadata": {},
   "source": [
    "# Bubble Sort\n",
    "Bubble Sort is a simple comparison-based sorting algorithm. It repeatedly steps through the list, compares adjacent items, and swaps them if they are in the wrong order. The process is repeated until the list is sorted."
   ]
  },
  {
   "cell_type": "code",
   "execution_count": null,
   "metadata": {},
   "outputs": [],
   "source": [
    "def bubble_sort(arr):\n",
    "    n = len(arr)\n",
    "    for i in range(n):\n",
    "        for j in range(0, n-i-1):\n",
    "            if arr[j] > arr[j+1]:\n",
    "                arr[j], arr[j+1] = arr[j+1], arr[j]\n",
    "    return arr\n"
   ]
  },
  {
   "cell_type": "markdown",
   "metadata": {},
   "source": [
    "Explanation:\n",
    "\n",
    "- Outer Loop: Runs through the entire array.\n",
    "- Inner Loop: Compares and swaps adjacent elements if they are in the wrong order.\n",
    "- Optimization: The number of comparisons decreases with each pass as the largest unsorted elements \"bubble\" to their correct position."
   ]
  },
  {
   "cell_type": "markdown",
   "metadata": {},
   "source": [
    "# Selection Sort\n",
    "Selection Sort works by selecting the smallest (or largest) element from the unsorted part of the array and swapping it with the first unsorted element."
   ]
  },
  {
   "cell_type": "code",
   "execution_count": null,
   "metadata": {},
   "outputs": [],
   "source": [
    "def selection_sort(arr):\n",
    "    n = len(arr)\n",
    "    for i in range(n):\n",
    "        min_index = i\n",
    "        for j in range(i+1, n):\n",
    "            if arr[j] < arr[min_index]:\n",
    "                min_index = j\n",
    "        arr[i], arr[min_index] = arr[min_index], arr[i]\n",
    "    return arr\n"
   ]
  },
  {
   "cell_type": "markdown",
   "metadata": {},
   "source": [
    "Explanation:\n",
    "\n",
    "- Outer Loop: Iterates through each element of the array.\n",
    "- Inner Loop: Finds the minimum element in the remaining unsorted part.\n",
    "- Swap: Swaps the found minimum element with the first unsorted element."
   ]
  },
  {
   "cell_type": "markdown",
   "metadata": {},
   "source": [
    "# Insertion Sort\n",
    "Insertion Sort builds the final sorted array one item at a time by repeatedly picking the next item and inserting it into the correct position among the previously sorted items."
   ]
  },
  {
   "cell_type": "code",
   "execution_count": null,
   "metadata": {},
   "outputs": [],
   "source": [
    "def insertion_sort(arr):\n",
    "    for i in range(1, len(arr)):\n",
    "        key = arr[i]\n",
    "        j = i - 1\n",
    "        while j >= 0 and arr[j] > key:\n",
    "            arr[j + 1] = arr[j]\n",
    "            j -= 1\n",
    "        arr[j + 1] = key\n",
    "    return arr\n"
   ]
  },
  {
   "cell_type": "markdown",
   "metadata": {},
   "source": [
    "Explanation:\n",
    "\n",
    "- Outer Loop: Iterates through each element.\n",
    "- Inner Loop: Moves elements greater than the current element to the right.\n",
    "- Insert: Places the current element into its correct position."
   ]
  },
  {
   "cell_type": "markdown",
   "metadata": {},
   "source": [
    "# Merge Sort\n",
    "Merge Sort is a divide-and-conquer algorithm that divides the array into halves, recursively sorts each half, and then merges the sorted halves."
   ]
  },
  {
   "cell_type": "code",
   "execution_count": null,
   "metadata": {},
   "outputs": [],
   "source": [
    "def merge_sort(arr):\n",
    "    if len(arr) <= 1:\n",
    "        return arr\n",
    "    def merge(left, right):\n",
    "        result = []\n",
    "        i = j = 0\n",
    "        while i < len(left) and j < len(right):\n",
    "            if left[i] < right[j]:\n",
    "                result.append(left[i])\n",
    "                i += 1\n",
    "            else:\n",
    "                result.append(right[j])\n",
    "                j += 1\n",
    "        result.extend(left[i:])\n",
    "        result.extend(right[j:])\n",
    "        return result\n",
    "    \n",
    "    mid = len(arr) // 2\n",
    "    left = merge_sort(arr[:mid])\n",
    "    right = merge_sort(arr[mid:])\n",
    "    return merge(left, right)\n"
   ]
  },
  {
   "cell_type": "markdown",
   "metadata": {},
   "source": [
    "Explanation:\n",
    "\n",
    "- Divide: Recursively splits the array into halves.\n",
    "- Merge: Combines the sorted halves into a single sorted array."
   ]
  },
  {
   "cell_type": "markdown",
   "metadata": {},
   "source": [
    "# Quick Sort\n",
    "Quick Sort is a divide-and-conquer algorithm that selects a \"pivot\" element, partitions the array into elements less than and greater than the pivot, and recursively sorts the partitions."
   ]
  },
  {
   "cell_type": "code",
   "execution_count": null,
   "metadata": {},
   "outputs": [],
   "source": [
    "def quick_sort(arr):\n",
    "    if len(arr) <= 1:\n",
    "        return arr\n",
    "    pivot = arr[len(arr) // 2]\n",
    "    left = [x for x in arr if x < pivot]\n",
    "    middle = [x for x in arr if x == pivot]\n",
    "    right = [x for x in arr if x > pivot]\n",
    "    return quick_sort(left) + middle + quick_sort(right)\n"
   ]
  },
  {
   "cell_type": "markdown",
   "metadata": {},
   "source": [
    "Explanation:\n",
    "\n",
    "- Pivot: Chooses an element to partition the array.\n",
    "- Partition: Rearranges elements around the pivot.\n",
    "- Recursion: Applies quicksort to partitions.- "
   ]
  },
  {
   "cell_type": "markdown",
   "metadata": {},
   "source": [
    "# Heap Sort\n",
    "Heap Sort converts the array into a heap (a special binary tree) and then repeatedly extracts the maximum element from the heap and rebuilds the heap."
   ]
  },
  {
   "cell_type": "code",
   "execution_count": null,
   "metadata": {},
   "outputs": [],
   "source": [
    "import heapq\n",
    "\n",
    "def heap_sort(arr):\n",
    "    heapq.heapify(arr)  # Convert array into a heap\n",
    "    sorted_arr = []\n",
    "    while arr:\n",
    "        sorted_arr.append(heapq.heappop(arr))\n",
    "    return sorted_arr\n"
   ]
  },
  {
   "cell_type": "markdown",
   "metadata": {},
   "source": [
    "Explanation:\n",
    "\n",
    "- Heapify: Converts the array into a heap.\n",
    "- Extract: Repeatedly extracts the smallest element from the heap."
   ]
  },
  {
   "cell_type": "markdown",
   "metadata": {},
   "source": [
    "# Counting Sort\n",
    "Counting Sort is a non-comparison-based sorting algorithm that counts the number of occurrences of each distinct element and then calculates the positions of elements in the sorted array."
   ]
  },
  {
   "cell_type": "code",
   "execution_count": null,
   "metadata": {},
   "outputs": [],
   "source": [
    "def counting_sort(arr):\n",
    "    if not arr:\n",
    "        return arr\n",
    "    \n",
    "    max_val = max(arr)\n",
    "    min_val = min(arr)\n",
    "    range_of_elements = max_val - min_val + 1\n",
    "\n",
    "    count = [0] * range_of_elements\n",
    "    output = [0] * len(arr)\n",
    "\n",
    "    for num in arr:\n",
    "        count[num - min_val] += 1\n",
    "\n",
    "    for i in range(1, len(count)):\n",
    "        count[i] += count[i - 1]\n",
    "\n",
    "    for num in reversed(arr):\n",
    "        output[count[num - min_val] - 1] = num\n",
    "        count[num - min_val] -= 1\n",
    "\n",
    "    return output\n"
   ]
  },
  {
   "cell_type": "markdown",
   "metadata": {},
   "source": [
    "Explanation:\n",
    "\n",
    "- Count: Counts occurrences of each element.\n",
    "- Cumulative Count: Calculates positions in the sorted array.\n",
    "- Reconstruct: Builds the sorted array."
   ]
  },
  {
   "cell_type": "markdown",
   "metadata": {},
   "source": [
    "# Radix Sort\n",
    "Radix Sort is a non-comparison-based sorting algorithm that sorts numbers by processing individual digits. It processes digits from least significant to most significant or vice versa."
   ]
  },
  {
   "cell_type": "code",
   "execution_count": null,
   "metadata": {},
   "outputs": [],
   "source": [
    "def radix_sort(arr):\n",
    "    def counting_sort_radix(arr, exp):\n",
    "        n = len(arr)\n",
    "        output = [0] * n\n",
    "        count = [0] * 10\n",
    "\n",
    "        for i in range(n):\n",
    "            index = arr[i] // exp\n",
    "            count[index % 10] += 1\n",
    "\n",
    "        for i in range(1, 10):\n",
    "            count[i] += count[i - 1]\n",
    "\n",
    "        i = n - 1\n",
    "        while i >= 0:\n",
    "            index = arr[i] // exp\n",
    "            output[count[index % 10] - 1] = arr[i]\n",
    "            count[index % 10] -= 1\n",
    "            i -= 1\n",
    "\n",
    "        for i in range(n):\n",
    "            arr[i] = output[i]\n",
    "\n",
    "    max_val = max(arr)\n",
    "    exp = 1\n",
    "    while max_val // exp > 0:\n",
    "        counting_sort_radix(arr, exp)\n",
    "        exp *= 10\n",
    "    return arr\n"
   ]
  },
  {
   "cell_type": "markdown",
   "metadata": {},
   "source": [
    "Explanation:\n",
    "\n",
    "- Digit-wise Sorting: Sorts based on individual digits using counting sort.\n",
    "- Expanding: Processes digits from least significant to most significant."
   ]
  },
  {
   "cell_type": "markdown",
   "metadata": {},
   "source": [
    "<h1 style='color:green;'>Summary</h1>\n",
    "\n",
    "- Bubble Sort: Simple but inefficient for large arrays.\n",
    "- Selection Sort: Finds the minimum element and places it in the correct position.\n",
    "- Insertion Sort: Builds the sorted array one element at a time.\n",
    "- Merge Sort: Divide-and-conquer, sorts and merges.\n",
    "- Quick Sort: Fast and efficient divide-and-conquer algorithm.\n",
    "- Heap Sort: Uses a heap data structure for sorting.\n",
    "- Counting Sort: Non-comparison-based, counts occurrences.\n",
    "- Radix Sort: Non-comparison-based, processes digits."
   ]
  }
 ],
 "metadata": {
  "kernelspec": {
   "display_name": "Python 3",
   "language": "python",
   "name": "python3"
  },
  "language_info": {
   "name": "python",
   "version": "3.11.7"
  }
 },
 "nbformat": 4,
 "nbformat_minor": 2
}
